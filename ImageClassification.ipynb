{
  "nbformat": 4,
  "nbformat_minor": 0,
  "metadata": {
    "colab": {
      "name": "ImageClassification.ipynb",
      "provenance": [],
      "collapsed_sections": [],
      "authorship_tag": "ABX9TyOyhSWbg7nK/zy1AuYs8kBT",
      "include_colab_link": true
    },
    "kernelspec": {
      "name": "python3",
      "display_name": "Python 3"
    },
    "language_info": {
      "name": "python"
    }
  },
  "cells": [
    {
      "cell_type": "markdown",
      "metadata": {
        "id": "view-in-github",
        "colab_type": "text"
      },
      "source": [
        "<a href=\"https://colab.research.google.com/github/AtharvanDogra/GPU_Hackathon_Arguably/blob/main/ImageClassification.ipynb\" target=\"_parent\"><img src=\"https://colab.research.google.com/assets/colab-badge.svg\" alt=\"Open In Colab\"/></a>"
      ]
    },
    {
      "cell_type": "code",
      "metadata": {
        "colab": {
          "base_uri": "https://localhost:8080/"
        },
        "id": "EYL7Gp-f98BH",
        "outputId": "a67ac2da-9b89-4dba-a7ab-397988e2c3fe"
      },
      "source": [
        "from google.colab import drive\n",
        "drive.mount('/content/drive')"
      ],
      "execution_count": 1,
      "outputs": [
        {
          "output_type": "stream",
          "text": [
            "Mounted at /content/drive\n"
          ],
          "name": "stdout"
        }
      ]
    },
    {
      "cell_type": "code",
      "metadata": {
        "id": "Y4OAgjQD6Gkb"
      },
      "source": [
        "from tensorflow.compat.v1 import ConfigProto\n",
        "from tensorflow.compat.v1 import InteractiveSession\n",
        "\n",
        "config = ConfigProto()\n",
        "config.gpu_options.per_process_gpu_memory_fraction = 0.5\n",
        "config.gpu_options.allow_growth = True\n",
        "session = InteractiveSession(config=config)"
      ],
      "execution_count": 2,
      "outputs": []
    },
    {
      "cell_type": "code",
      "metadata": {
        "id": "CxjubLLs6iyy"
      },
      "source": [
        "# Convolutional Neural Network\n",
        "\n",
        "# Importing the libraries\n",
        "import tensorflow as tf\n",
        "from tensorflow.keras.preprocessing.image import ImageDataGenerator"
      ],
      "execution_count": 3,
      "outputs": []
    },
    {
      "cell_type": "code",
      "metadata": {
        "colab": {
          "base_uri": "https://localhost:8080/",
          "height": 35
        },
        "id": "e8cfbr4w6nPf",
        "outputId": "55375e2b-3f8e-4d21-dc15-7611c524edb7"
      },
      "source": [
        "tf.__version__"
      ],
      "execution_count": 4,
      "outputs": [
        {
          "output_type": "execute_result",
          "data": {
            "application/vnd.google.colaboratory.intrinsic+json": {
              "type": "string"
            },
            "text/plain": [
              "'2.6.0'"
            ]
          },
          "metadata": {},
          "execution_count": 4
        }
      ]
    },
    {
      "cell_type": "code",
      "metadata": {
        "id": "Gwf74SGH6oQq"
      },
      "source": [
        "# Part 1 - Data Preprocessing\n",
        "\n",
        "# Preprocessing the Training set\n",
        "train_datagen = ImageDataGenerator(rescale = 1./255,\n",
        "                                  #  shear_range = 0.2,\n",
        "                                  #  zoom_range = 0.2,\n",
        "                                  #  horizontal_flip = True\n",
        "                                   )\n"
      ],
      "execution_count": 7,
      "outputs": []
    },
    {
      "cell_type": "code",
      "metadata": {
        "colab": {
          "base_uri": "https://localhost:8080/"
        },
        "id": "8258urQf6tTm",
        "outputId": "a2f2ee1b-f9bf-488b-e7ad-acf91005126f"
      },
      "source": [
        "training_set = train_datagen.flow_from_directory('/content/drive/MyDrive/GPU_Hackathon/training',\n",
        "                                                 target_size = (64, 64),\n",
        "                                                 batch_size = 32,\n",
        "                                                 class_mode = 'binary')\n",
        "\n",
        "# Preprocessing the Test set\n"
      ],
      "execution_count": 10,
      "outputs": [
        {
          "output_type": "stream",
          "text": [
            "Found 5875 images belonging to 2 classes.\n"
          ],
          "name": "stdout"
        }
      ]
    },
    {
      "cell_type": "code",
      "metadata": {
        "colab": {
          "base_uri": "https://localhost:8080/"
        },
        "id": "J6DnIMvKcpOM",
        "outputId": "412e8d9d-a9d2-49a9-d30d-3ab17d7011ce"
      },
      "source": [
        "test_datagen = ImageDataGenerator(rescale = 1./255)\n",
        "test_set = test_datagen.flow_from_directory('/content/drive/MyDrive/GPU_Hackathon/test_final/',\n",
        "                                            target_size = (64, 64),\n",
        "                                            batch_size = 32,\n",
        "                                            class_mode = 'binary')"
      ],
      "execution_count": 15,
      "outputs": [
        {
          "output_type": "stream",
          "text": [
            "Found 98 images belonging to 1 classes.\n"
          ],
          "name": "stdout"
        }
      ]
    },
    {
      "cell_type": "code",
      "metadata": {
        "id": "989r7S7a6yYl"
      },
      "source": [
        "from tensorflow.keras.layers import Conv2D\n",
        "from tensorflow.keras.layers import Dense"
      ],
      "execution_count": 16,
      "outputs": []
    },
    {
      "cell_type": "code",
      "metadata": {
        "id": "dadiaN6s60Yh"
      },
      "source": [
        "from tensorflow.keras.regularizers import l2"
      ],
      "execution_count": 17,
      "outputs": []
    },
    {
      "cell_type": "code",
      "metadata": {
        "id": "ZlomKMtN62Jf"
      },
      "source": [
        "# Part 2 - Building the CNN\n",
        "# Initialising the CNN\n",
        "cnn = tf.keras.models.Sequential()\n",
        "\n",
        "# Step 1 - Convolution\n",
        "cnn.add(tf.keras.layers.Conv2D(filters=32,padding=\"same\",kernel_size=3, activation='relu', strides=2, input_shape=[64, 64, 3]))\n",
        "\n",
        "# Step 2 - Pooling\n",
        "cnn.add(tf.keras.layers.MaxPool2D(pool_size=2, strides=2))\n",
        "\n",
        "# Adding a second convolutional layer\n",
        "cnn.add(tf.keras.layers.Conv2D(filters=32,padding='same',kernel_size=3, activation='relu'))\n",
        "cnn.add(tf.keras.layers.MaxPool2D(pool_size=2, strides=2))\n",
        "\n",
        "# Step 3 - Flattening\n",
        "cnn.add(tf.keras.layers.Flatten())\n",
        "\n",
        "# Step 4 - Full Connection\n",
        "cnn.add(tf.keras.layers.Dense(units=128, activation='relu'))\n",
        "\n",
        "# Step 5 - Output Layer\n",
        "#cnn.add(tf.keras.layers.Dense(units=1, activation='sigmoid'))\n",
        "## For Binary Classification\n",
        "cnn.add(Dense(1, kernel_regularizer=tf.keras.regularizers.l2(0.01),activation\n",
        "             ='linear'))"
      ],
      "execution_count": 18,
      "outputs": []
    },
    {
      "cell_type": "code",
      "metadata": {
        "id": "k8dD_qtk64SF"
      },
      "source": [
        "## for mulitclassification\n",
        "cnn.add(Dense(4, kernel_regularizer=tf.keras.regularizers.l2(0.01),activation\n",
        "             ='softmax'))\n",
        "cnn.compile(optimizer = 'adam', loss = 'squared_hinge', metrics = ['accuracy'])"
      ],
      "execution_count": null,
      "outputs": []
    },
    {
      "cell_type": "code",
      "metadata": {
        "colab": {
          "base_uri": "https://localhost:8080/"
        },
        "id": "Wb1YZP6y65xu",
        "outputId": "1cd659a8-0e22-4c47-c2f1-58977ff6c0a8"
      },
      "source": [
        "cnn.summary()"
      ],
      "execution_count": 19,
      "outputs": [
        {
          "output_type": "stream",
          "text": [
            "Model: \"sequential\"\n",
            "_________________________________________________________________\n",
            "Layer (type)                 Output Shape              Param #   \n",
            "=================================================================\n",
            "conv2d (Conv2D)              (None, 32, 32, 32)        896       \n",
            "_________________________________________________________________\n",
            "max_pooling2d (MaxPooling2D) (None, 16, 16, 32)        0         \n",
            "_________________________________________________________________\n",
            "conv2d_1 (Conv2D)            (None, 16, 16, 32)        9248      \n",
            "_________________________________________________________________\n",
            "max_pooling2d_1 (MaxPooling2 (None, 8, 8, 32)          0         \n",
            "_________________________________________________________________\n",
            "flatten (Flatten)            (None, 2048)              0         \n",
            "_________________________________________________________________\n",
            "dense (Dense)                (None, 128)               262272    \n",
            "_________________________________________________________________\n",
            "dense_1 (Dense)              (None, 1)                 129       \n",
            "=================================================================\n",
            "Total params: 272,545\n",
            "Trainable params: 272,545\n",
            "Non-trainable params: 0\n",
            "_________________________________________________________________\n"
          ],
          "name": "stdout"
        }
      ]
    },
    {
      "cell_type": "code",
      "metadata": {
        "colab": {
          "base_uri": "https://localhost:8080/"
        },
        "id": "u7LqM76667fm",
        "outputId": "bbb41a12-713d-445e-cd9a-a3b8b4278cc1"
      },
      "source": [
        "# Part 3 - Training the CNN\n",
        "\n",
        "# Compiling the CNN\n",
        "cnn.compile(optimizer = 'adam', loss = 'hinge', metrics = ['accuracy'])\n",
        "\n",
        "# Training the CNN on the Training set and evaluating it on the Test set\n",
        "r=cnn.fit(x = training_set, epochs = 15)"
      ],
      "execution_count": 20,
      "outputs": [
        {
          "output_type": "stream",
          "text": [
            "Epoch 1/15\n",
            "184/184 [==============================] - 1825s 10s/step - loss: 0.4818 - accuracy: 0.7717\n",
            "Epoch 2/15\n",
            "184/184 [==============================] - 13s 72ms/step - loss: 0.2135 - accuracy: 0.9011\n",
            "Epoch 3/15\n",
            "184/184 [==============================] - 13s 71ms/step - loss: 0.1642 - accuracy: 0.9251\n",
            "Epoch 4/15\n",
            "184/184 [==============================] - 13s 70ms/step - loss: 0.1292 - accuracy: 0.9406\n",
            "Epoch 5/15\n",
            "184/184 [==============================] - 13s 71ms/step - loss: 0.1160 - accuracy: 0.9469\n",
            "Epoch 6/15\n",
            "184/184 [==============================] - 13s 71ms/step - loss: 0.0953 - accuracy: 0.9552\n",
            "Epoch 7/15\n",
            "184/184 [==============================] - 13s 71ms/step - loss: 0.0825 - accuracy: 0.9617\n",
            "Epoch 8/15\n",
            "184/184 [==============================] - 13s 70ms/step - loss: 0.0717 - accuracy: 0.9671\n",
            "Epoch 9/15\n",
            "184/184 [==============================] - 13s 70ms/step - loss: 0.0630 - accuracy: 0.9719\n",
            "Epoch 10/15\n",
            "184/184 [==============================] - 13s 71ms/step - loss: 0.0500 - accuracy: 0.9787\n",
            "Epoch 11/15\n",
            "184/184 [==============================] - 13s 71ms/step - loss: 0.0486 - accuracy: 0.9794\n",
            "Epoch 12/15\n",
            "184/184 [==============================] - 13s 70ms/step - loss: 0.0374 - accuracy: 0.9849\n",
            "Epoch 13/15\n",
            "184/184 [==============================] - 13s 71ms/step - loss: 0.0325 - accuracy: 0.9881\n",
            "Epoch 14/15\n",
            "184/184 [==============================] - 13s 71ms/step - loss: 0.0309 - accuracy: 0.9872\n",
            "Epoch 15/15\n",
            "184/184 [==============================] - 13s 71ms/step - loss: 0.0273 - accuracy: 0.9900\n"
          ],
          "name": "stdout"
        }
      ]
    },
    {
      "cell_type": "code",
      "metadata": {
        "colab": {
          "base_uri": "https://localhost:8080/",
          "height": 477
        },
        "id": "cRbF7dMt69j1",
        "outputId": "31b6b9ea-8ef9-4096-af7b-994be6ce7c0d"
      },
      "source": [
        "# plot the loss\n",
        "import matplotlib.pyplot as plt\n",
        "plt.plot(r.history['loss'], label='train loss')\n",
        "plt.plot(r.history['val_loss'], label='val loss')\n",
        "plt.legend()\n",
        "plt.show()\n",
        "plt.savefig('LossVal_loss')\n",
        "\n",
        "# plot the accuracy\n",
        "plt.plot(r.history['accuracy'], label='train acc')\n",
        "plt.plot(r.history['val_accuracy'], label='val acc')\n",
        "plt.legend()\n",
        "plt.show()\n",
        "plt.savefig('AccVal_acc')"
      ],
      "execution_count": null,
      "outputs": [
        {
          "output_type": "error",
          "ename": "KeyError",
          "evalue": "ignored",
          "traceback": [
            "\u001b[0;31m---------------------------------------------------------------------------\u001b[0m",
            "\u001b[0;31mKeyError\u001b[0m                                  Traceback (most recent call last)",
            "\u001b[0;32m<ipython-input-35-d118822e3500>\u001b[0m in \u001b[0;36m<module>\u001b[0;34m()\u001b[0m\n\u001b[1;32m      2\u001b[0m \u001b[0;32mimport\u001b[0m \u001b[0mmatplotlib\u001b[0m\u001b[0;34m.\u001b[0m\u001b[0mpyplot\u001b[0m \u001b[0;32mas\u001b[0m \u001b[0mplt\u001b[0m\u001b[0;34m\u001b[0m\u001b[0;34m\u001b[0m\u001b[0m\n\u001b[1;32m      3\u001b[0m \u001b[0mplt\u001b[0m\u001b[0;34m.\u001b[0m\u001b[0mplot\u001b[0m\u001b[0;34m(\u001b[0m\u001b[0mr\u001b[0m\u001b[0;34m.\u001b[0m\u001b[0mhistory\u001b[0m\u001b[0;34m[\u001b[0m\u001b[0;34m'loss'\u001b[0m\u001b[0;34m]\u001b[0m\u001b[0;34m,\u001b[0m \u001b[0mlabel\u001b[0m\u001b[0;34m=\u001b[0m\u001b[0;34m'train loss'\u001b[0m\u001b[0;34m)\u001b[0m\u001b[0;34m\u001b[0m\u001b[0;34m\u001b[0m\u001b[0m\n\u001b[0;32m----> 4\u001b[0;31m \u001b[0mplt\u001b[0m\u001b[0;34m.\u001b[0m\u001b[0mplot\u001b[0m\u001b[0;34m(\u001b[0m\u001b[0mr\u001b[0m\u001b[0;34m.\u001b[0m\u001b[0mhistory\u001b[0m\u001b[0;34m[\u001b[0m\u001b[0;34m'val_loss'\u001b[0m\u001b[0;34m]\u001b[0m\u001b[0;34m,\u001b[0m \u001b[0mlabel\u001b[0m\u001b[0;34m=\u001b[0m\u001b[0;34m'val loss'\u001b[0m\u001b[0;34m)\u001b[0m\u001b[0;34m\u001b[0m\u001b[0;34m\u001b[0m\u001b[0m\n\u001b[0m\u001b[1;32m      5\u001b[0m \u001b[0mplt\u001b[0m\u001b[0;34m.\u001b[0m\u001b[0mlegend\u001b[0m\u001b[0;34m(\u001b[0m\u001b[0;34m)\u001b[0m\u001b[0;34m\u001b[0m\u001b[0;34m\u001b[0m\u001b[0m\n\u001b[1;32m      6\u001b[0m \u001b[0mplt\u001b[0m\u001b[0;34m.\u001b[0m\u001b[0mshow\u001b[0m\u001b[0;34m(\u001b[0m\u001b[0;34m)\u001b[0m\u001b[0;34m\u001b[0m\u001b[0;34m\u001b[0m\u001b[0m\n",
            "\u001b[0;31mKeyError\u001b[0m: 'val_loss'"
          ]
        },
        {
          "output_type": "display_data",
          "data": {
            "image/png": "[encoded data removed]",
            "text/plain": [
              "<Figure size 432x288 with 1 Axes>"
            ]
          },
          "metadata": {
            "needs_background": "light"
          }
        }
      ]
    },
    {
      "cell_type": "code",
      "metadata": {
        "id": "aNy_MaRX6_Pv"
      },
      "source": [
        "# save it as a h5 file\n",
        "\n",
        "\n",
        "from tensorflow.keras.models import load_model\n",
        "\n",
        "cnn.save('/content/drive/MyDrive/hindiObject_detection.h5')"
      ],
      "execution_count": 21,
      "outputs": []
    },
    {
      "cell_type": "code",
      "metadata": {
        "id": "PVCAR2yv7Af7"
      },
      "source": [
        "from tensorflow.keras.models import load_model\n",
        " \n",
        "# load model\n",
        "model = load_model('/content/drive/MyDrive/hindiObject_detection.h5')"
      ],
      "execution_count": 23,
      "outputs": []
    },
    {
      "cell_type": "code",
      "metadata": {
        "colab": {
          "base_uri": "https://localhost:8080/"
        },
        "id": "-Psgi_5A7B6v",
        "outputId": "fe714c47-0796-4f4b-e824-4f17d7847f41"
      },
      "source": [
        "model.summary()"
      ],
      "execution_count": 24,
      "outputs": [
        {
          "output_type": "stream",
          "text": [
            "Model: \"sequential\"\n",
            "_________________________________________________________________\n",
            "Layer (type)                 Output Shape              Param #   \n",
            "=================================================================\n",
            "conv2d (Conv2D)              (None, 32, 32, 32)        896       \n",
            "_________________________________________________________________\n",
            "max_pooling2d (MaxPooling2D) (None, 16, 16, 32)        0         \n",
            "_________________________________________________________________\n",
            "conv2d_1 (Conv2D)            (None, 16, 16, 32)        9248      \n",
            "_________________________________________________________________\n",
            "max_pooling2d_1 (MaxPooling2 (None, 8, 8, 32)          0         \n",
            "_________________________________________________________________\n",
            "flatten (Flatten)            (None, 2048)              0         \n",
            "_________________________________________________________________\n",
            "dense (Dense)                (None, 128)               262272    \n",
            "_________________________________________________________________\n",
            "dense_1 (Dense)              (None, 1)                 129       \n",
            "=================================================================\n",
            "Total params: 272,545\n",
            "Trainable params: 272,545\n",
            "Non-trainable params: 0\n",
            "_________________________________________________________________\n"
          ],
          "name": "stdout"
        }
      ]
    },
    {
      "cell_type": "code",
      "metadata": {
        "id": "IL0vrFYD7DVW"
      },
      "source": [
        "# Part 4 - Making predictions\n",
        "\n",
        "import numpy as np\n",
        "import os \n",
        "\n",
        "from tensorflow.keras.preprocessing import image\n",
        "\n",
        "# original = []       #storing original 0s and 1s\n",
        "predict = []        #0s and 1s according to prediction\n",
        "# zeros = []\n",
        "for_json = {}\n",
        "\n",
        "for image_name in os.listdir(\"/content/drive/MyDrive/GPU_Hackathon/test_final/test/\"):\n",
        "\n",
        "  # original.append(int(image_name.split(\"_\")[1].split(\".\")[0]))                  #taking out 0s and 1s from combined test set\n",
        "  \n",
        "  test_image = image.load_img('/content/drive/MyDrive/GPU_Hackathon/test_final/test/'+ str(image_name), target_size = (64,64))\n",
        "  test_image = image.img_to_array(test_image)\n",
        "  test_image=test_image/255\n",
        "  test_image = np.expand_dims(test_image, axis = 0)\n",
        "  result = cnn.predict(test_image)\n",
        "\n",
        "  if result < 0:\n",
        "    predict.append(0)\n",
        "    for_json[image_name] = 0\n",
        "\n",
        "  elif result > 0:\n",
        "    predict.append(1)\n",
        "    for_json[image_name] = 1\n",
        "\n",
        "  # else:\n",
        "  #   zeros.append(0)\n",
        "# result = cnn.predict(test_image)"
      ],
      "execution_count": 50,
      "outputs": []
    },
    {
      "cell_type": "code",
      "metadata": {
        "colab": {
          "base_uri": "https://localhost:8080/"
        },
        "id": "qAO9dIGv5KHz",
        "outputId": "61d1cd86-7972-479b-b82a-6c953b244b3c"
      },
      "source": [
        "# import numpy as np\n",
        "# from tensorflow.keras.preprocessing import image\n",
        "# test_image = image.load_img('/content/drive/MyDrive/GPU_Hackathon/test_final/test/1.jpg', target_size = (64,64))\n",
        "# test_image = image.img_to_array(test_image)\n",
        "# test_image=test_image/255\n",
        "# test_image = np.expand_dims(test_image, axis = 0)\n",
        "# result = cnn.predict(test_image)\n",
        "# result\n",
        "# predict\n",
        "# original\n",
        "for_json"
      ],
      "execution_count": 51,
      "outputs": [
        {
          "output_type": "execute_result",
          "data": {
            "text/plain": [
              "{'1.jpg': 1,\n",
              " '10.jpg': 0,\n",
              " '11.jpg': 1,\n",
              " '12.jpg': 0,\n",
              " '13.jpg': 1,\n",
              " '14.jpg': 0,\n",
              " '15.jpg': 1,\n",
              " '16.jpg': 0,\n",
              " '17.jpg': 1,\n",
              " '18.jpg': 0,\n",
              " '19.jpg': 1,\n",
              " '2.jpg': 0,\n",
              " '20.jpg': 1,\n",
              " '21.jpg': 1,\n",
              " '22.jpg': 1,\n",
              " '23.jpg': 1,\n",
              " '24.jpg': 1,\n",
              " '25.jpg': 1,\n",
              " '26.jpg': 1,\n",
              " '27.jpg': 1,\n",
              " '28.jpg': 1,\n",
              " '29.jpg': 1,\n",
              " '3.jpg': 1,\n",
              " '30.jpg': 1,\n",
              " '31.jpg': 0,\n",
              " '32.jpg': 0,\n",
              " '33.jpg': 0,\n",
              " '34.jpg': 0,\n",
              " '35.jpg': 0,\n",
              " '36.jpg': 0,\n",
              " '37.jpg': 0,\n",
              " '38.jpg': 0,\n",
              " '39.jpg': 0,\n",
              " '4.jpg': 0,\n",
              " '40.jpg': 1,\n",
              " '41.jpg': 0,\n",
              " '42.jpg': 1,\n",
              " '43.jpg': 0,\n",
              " '44.jpg': 1,\n",
              " '45.jpg': 0,\n",
              " '46.jpg': 1,\n",
              " '47.jpg': 0,\n",
              " '48.jpg': 1,\n",
              " '49.jpg': 0,\n",
              " '5.jpg': 1,\n",
              " '50.jpg': 1,\n",
              " '51.jpg': 1,\n",
              " '52.jpg': 1,\n",
              " '53.jpg': 1,\n",
              " '54.jpg': 1,\n",
              " '55.jpg': 0,\n",
              " '56.jpg': 0,\n",
              " '57.jpg': 0,\n",
              " '58.jpg': 0,\n",
              " '59.jpg': 0,\n",
              " '6.jpg': 0,\n",
              " '60.jpg': 0,\n",
              " '61.jpg': 1,\n",
              " '62.jpg': 0,\n",
              " '63.jpg': 1,\n",
              " '64.jpg': 0,\n",
              " '65.jpg': 0,\n",
              " '66.jpg': 0,\n",
              " '67.jpg': 1,\n",
              " '68.jpg': 0,\n",
              " '69.jpg': 1,\n",
              " '7.jpg': 1,\n",
              " '70.jpg': 1,\n",
              " '71.jpg': 1,\n",
              " '72.jpg': 1,\n",
              " '73.jpg': 1,\n",
              " '74.jpg': 0,\n",
              " '75.jpg': 0,\n",
              " '76.jpg': 0,\n",
              " '77.jpg': 0,\n",
              " '78.jpg': 0,\n",
              " '79.jpg': 0,\n",
              " '8.jpg': 0,\n",
              " '80.jpg': 0,\n",
              " '81.jpg': 1,\n",
              " '82.jpg': 1,\n",
              " '83.jpg': 1,\n",
              " '84.jpg': 1,\n",
              " '85.jpg': 0,\n",
              " '86.jpg': 0,\n",
              " '87.jpg': 0,\n",
              " '88.jpg': 0,\n",
              " '89.jpg': 0,\n",
              " '9.jpg': 1,\n",
              " '90.jpg': 1,\n",
              " '91.jpg': 1,\n",
              " '92.jpg': 1,\n",
              " '93.jpg': 0,\n",
              " '94.jpg': 1,\n",
              " '95.jpg': 0,\n",
              " '96.jpg': 0,\n",
              " '97.jpg': 0,\n",
              " '98.jpg': 0}"
            ]
          },
          "metadata": {},
          "execution_count": 51
        }
      ]
    },
    {
      "cell_type": "code",
      "metadata": {
        "colab": {
          "base_uri": "https://localhost:8080/",
          "height": 417
        },
        "id": "K3zqXWNWIEGI",
        "outputId": "aad716f1-7c61-4b9d-8440-4553e384db90"
      },
      "source": [
        "import pandas as pd\n",
        "a = pd.DataFrame.from_dict(for_json,orient='index')\n",
        "a"
      ],
      "execution_count": 60,
      "outputs": [
        {
          "output_type": "execute_result",
          "data": {
            "text/html": [
              "<div>\n",
              "<style scoped>\n",
              "    .dataframe tbody tr th:only-of-type {\n",
              "        vertical-align: middle;\n",
              "    }\n",
              "\n",
              "    .dataframe tbody tr th {\n",
              "        vertical-align: top;\n",
              "    }\n",
              "\n",
              "    .dataframe thead th {\n",
              "        text-align: right;\n",
              "    }\n",
              "</style>\n",
              "<table border=\"1\" class=\"dataframe\">\n",
              "  <thead>\n",
              "    <tr style=\"text-align: right;\">\n",
              "      <th></th>\n",
              "      <th>0</th>\n",
              "    </tr>\n",
              "  </thead>\n",
              "  <tbody>\n",
              "    <tr>\n",
              "      <th>47.jpg</th>\n",
              "      <td>0</td>\n",
              "    </tr>\n",
              "    <tr>\n",
              "      <th>32.jpg</th>\n",
              "      <td>0</td>\n",
              "    </tr>\n",
              "    <tr>\n",
              "      <th>77.jpg</th>\n",
              "      <td>0</td>\n",
              "    </tr>\n",
              "    <tr>\n",
              "      <th>56.jpg</th>\n",
              "      <td>0</td>\n",
              "    </tr>\n",
              "    <tr>\n",
              "      <th>4.jpg</th>\n",
              "      <td>0</td>\n",
              "    </tr>\n",
              "    <tr>\n",
              "      <th>...</th>\n",
              "      <td>...</td>\n",
              "    </tr>\n",
              "    <tr>\n",
              "      <th>14.jpg</th>\n",
              "      <td>0</td>\n",
              "    </tr>\n",
              "    <tr>\n",
              "      <th>12.jpg</th>\n",
              "      <td>0</td>\n",
              "    </tr>\n",
              "    <tr>\n",
              "      <th>10.jpg</th>\n",
              "      <td>0</td>\n",
              "    </tr>\n",
              "    <tr>\n",
              "      <th>89.jpg</th>\n",
              "      <td>0</td>\n",
              "    </tr>\n",
              "    <tr>\n",
              "      <th>45.jpg</th>\n",
              "      <td>0</td>\n",
              "    </tr>\n",
              "  </tbody>\n",
              "</table>\n",
              "<p>98 rows × 1 columns</p>\n",
              "</div>"
            ],
            "text/plain": [
              "        0\n",
              "47.jpg  0\n",
              "32.jpg  0\n",
              "77.jpg  0\n",
              "56.jpg  0\n",
              "4.jpg   0\n",
              "...    ..\n",
              "14.jpg  0\n",
              "12.jpg  0\n",
              "10.jpg  0\n",
              "89.jpg  0\n",
              "45.jpg  0\n",
              "\n",
              "[98 rows x 1 columns]"
            ]
          },
          "metadata": {},
          "execution_count": 60
        }
      ]
    },
    {
      "cell_type": "code",
      "metadata": {
        "id": "oUa9qbwQ9BkU"
      },
      "source": [
        "import json\n",
        "with open('/content/drive/MyDrive/GPU_Hackathon/data2.json', 'w') as f:\n",
        "  for_json = json.dumps(for_json)"
      ],
      "execution_count": 44,
      "outputs": []
    },
    {
      "cell_type": "code",
      "metadata": {
        "colab": {
          "base_uri": "https://localhost:8080/",
          "height": 137
        },
        "id": "RHUz9omr9LRa",
        "outputId": "9a7e1a53-805d-495f-c723-336a1fe3dd1c"
      },
      "source": [
        "for_json"
      ],
      "execution_count": 45,
      "outputs": [
        {
          "output_type": "execute_result",
          "data": {
            "application/vnd.google.colaboratory.intrinsic+json": {
              "type": "string"
            },
            "text/plain": [
              "'\"{\\\\\"47.jpg\\\\\": 0, \\\\\"32.jpg\\\\\": 0, \\\\\"77.jpg\\\\\": 0, \\\\\"56.jpg\\\\\": 0, \\\\\"4.jpg\\\\\": 0, \\\\\"79.jpg\\\\\": 0, \\\\\"41.jpg\\\\\": 0, \\\\\"97.jpg\\\\\": 0, \\\\\"49.jpg\\\\\": 0, \\\\\"95.jpg\\\\\": 0, \\\\\"88.jpg\\\\\": 0, \\\\\"59.jpg\\\\\": 0, \\\\\"74.jpg\\\\\": 0, \\\\\"65.jpg\\\\\": 0, \\\\\"66.jpg\\\\\": 0, \\\\\"75.jpg\\\\\": 0, \\\\\"2.jpg\\\\\": 0, \\\\\"17.jpg\\\\\": 1, \\\\\"19.jpg\\\\\": 1, \\\\\"62.jpg\\\\\": 0, \\\\\"3.jpg\\\\\": 1, \\\\\"71.jpg\\\\\": 1, \\\\\"70.jpg\\\\\": 1, \\\\\"55.jpg\\\\\": 0, \\\\\"30.jpg\\\\\": 1, \\\\\"20.jpg\\\\\": 1, \\\\\"15.jpg\\\\\": 1, \\\\\"63.jpg\\\\\": 1, \\\\\"83.jpg\\\\\": 1, \\\\\"24.jpg\\\\\": 1, \\\\\"82.jpg\\\\\": 1, \\\\\"25.jpg\\\\\": 1, \\\\\"1.jpg\\\\\": 1, \\\\\"61.jpg\\\\\": 1, \\\\\"26.jpg\\\\\": 1, \\\\\"22.jpg\\\\\": 1, \\\\\"51.jpg\\\\\": 1, \\\\\"52.jpg\\\\\": 1, \\\\\"21.jpg\\\\\": 1, \\\\\"92.jpg\\\\\": 1, \\\\\"84.jpg\\\\\": 1, \\\\\"28.jpg\\\\\": 1, \\\\\"53.jpg\\\\\": 1, \\\\\"54.jpg\\\\\": 1, \\\\\"27.jpg\\\\\": 1, \\\\\"13.jpg\\\\\": 1, \\\\\"9.jpg\\\\\": 1, \\\\\"46.jpg\\\\\": 1, \\\\\"94.jpg\\\\\": 1, \\\\\"11.jpg\\\\\": 1, \\\\\"73.jpg\\\\\": 1, \\\\\"93.jpg\\\\\": 0, \\\\\"48.jpg\\\\\": 1, \\\\\"44.jpg\\\\\": 1, \\\\\"40.jpg\\\\\": 1, \\\\\"69.jpg\\\\\": 1, \\\\\"81.jpg\\\\\": 1, \\\\\"5.jpg\\\\\": 1, \\\\\"91.jpg\\\\\": 1, \\\\\"50.jpg\\\\\": 1, \\\\\"42.jpg\\\\\": 1, \\\\\"68.jpg\\\\\": 0, \\\\\"72.jpg\\\\\": 1, \\\\\"90.jpg\\\\\": 1, \\\\\"29.jpg\\\\\": 1, \\\\\"67.jpg\\\\\": 1, \\\\\"23.jpg\\\\\": 1, \\\\\"7.jpg\\\\\": 1, \\\\\"87.jpg\\\\\": 0, \\\\\"80.jpg\\\\\": 0, \\\\\"39.jpg\\\\\": 0, \\\\\"38.jpg\\\\\": 0, \\\\\"57.jpg\\\\\": 0, \\\\\"98.jpg\\\\\": 0, \\\\\"58.jpg\\\\\": 0, \\\\\"6.jpg\\\\\": 0, \\\\\"8.jpg\\\\\": 0, \\\\\"37.jpg\\\\\": 0, \\\\\"64.jpg\\\\\": 0, \\\\\"16.jpg\\\\\": 0, \\\\\"78.jpg\\\\\": 0, \\\\\"76.jpg\\\\\": 0, \\\\\"60.jpg\\\\\": 0, \\\\\"34.jpg\\\\\": 0, \\\\\"33.jpg\\\\\": 0, \\\\\"31.jpg\\\\\": 0, \\\\\"96.jpg\\\\\": 0, \\\\\"43.jpg\\\\\": 0, \\\\\"35.jpg\\\\\": 0, \\\\\"36.jpg\\\\\": 0, \\\\\"86.jpg\\\\\": 0, \\\\\"18.jpg\\\\\": 0, \\\\\"85.jpg\\\\\": 0, \\\\\"14.jpg\\\\\": 0, \\\\\"12.jpg\\\\\": 0, \\\\\"10.jpg\\\\\": 0, \\\\\"89.jpg\\\\\": 0, \\\\\"45.jpg\\\\\": 0}\"'"
            ]
          },
          "metadata": {},
          "execution_count": 45
        }
      ]
    },
    {
      "cell_type": "code",
      "metadata": {
        "id": "afCsmPYH9fhy"
      },
      "source": [
        "# import json\n",
        "with open('/content/drive/MyDrive/GPU_Hackathon/data.json', 'w', encoding='utf-8') as f:\n",
        "    json.dump(for_json, f, ensure_ascii=False, indent=4)"
      ],
      "execution_count": 40,
      "outputs": []
    },
    {
      "cell_type": "code",
      "metadata": {
        "id": "opzmq8oF-Q2w"
      },
      "source": [
        "import json\n",
        "with open('/content/drive/MyDrive/GPU_Hackathon/data1.json', 'w') as f:\n",
        "    json.dump(for_json, f)"
      ],
      "execution_count": 41,
      "outputs": []
    },
    {
      "cell_type": "code",
      "metadata": {
        "id": "qvSAGP4rG317"
      },
      "source": [
        "for image_name in os.listdir(\"/content/drive/MyDrive/GPU_Hackathon/test/combined/\"):\n",
        "  # print(image_name)"
      ],
      "execution_count": null,
      "outputs": []
    },
    {
      "cell_type": "code",
      "metadata": {
        "colab": {
          "base_uri": "https://localhost:8080/"
        },
        "id": "VUc89QDq7E1x",
        "outputId": "d0928169-e786-456f-c603-10432d219a0e"
      },
      "source": [
        "# result\n",
        "len(predict)\n",
        "# original\n"
      ],
      "execution_count": null,
      "outputs": [
        {
          "output_type": "execute_result",
          "data": {
            "text/plain": [
              "98"
            ]
          },
          "metadata": {},
          "execution_count": 28
        }
      ]
    },
    {
      "cell_type": "code",
      "metadata": {
        "id": "WB5Pkzky7Gg1"
      },
      "source": [
        "# Part 4 - Making a single prediction\n",
        "\n",
        "import numpy as np\n",
        "from tensorflow.keras.preprocessing import image\n",
        "test_image = image.load_img('Datasets/test/cats/cat.4017.jpg', target_size = (64,64))\n",
        "test_image = image.img_to_array(test_image)\n",
        "test_image=test_image/255\n",
        "test_image = np.expand_dims(test_image, axis = 0)\n",
        "result = cnn.predict(test_image)"
      ],
      "execution_count": null,
      "outputs": []
    },
    {
      "cell_type": "code",
      "metadata": {
        "id": "IrmGZexd7IZP"
      },
      "source": [
        "result"
      ],
      "execution_count": null,
      "outputs": []
    },
    {
      "cell_type": "code",
      "metadata": {
        "id": "EX9mi6Mg7J4E"
      },
      "source": [
        "if result[0]<0:\n",
        "    print(\"The image classified is cat\")\n",
        "else:\n",
        "    print(\"The image classified is dog\")"
      ],
      "execution_count": null,
      "outputs": []
    },
    {
      "cell_type": "markdown",
      "metadata": {
        "id": "Dza-EOoJDl_c"
      },
      "source": [
        "#Classification Report\n"
      ]
    },
    {
      "cell_type": "code",
      "metadata": {
        "id": "Xxizj4wuDvds"
      },
      "source": [
        "from sklearn.metrics import classification_report"
      ],
      "execution_count": null,
      "outputs": []
    },
    {
      "cell_type": "code",
      "metadata": {
        "colab": {
          "base_uri": "https://localhost:8080/"
        },
        "id": "L31uSKVsD2cU",
        "outputId": "dbd38bc5-33d1-4942-9a1f-467d6282cbe9"
      },
      "source": [
        "print(classification_report(original, predict))"
      ],
      "execution_count": null,
      "outputs": [
        {
          "output_type": "stream",
          "text": [
            "              precision    recall  f1-score   support\n",
            "\n",
            "           0       1.00      1.00      1.00        47\n",
            "           1       1.00      1.00      1.00        51\n",
            "\n",
            "    accuracy                           1.00        98\n",
            "   macro avg       1.00      1.00      1.00        98\n",
            "weighted avg       1.00      1.00      1.00        98\n",
            "\n"
          ],
          "name": "stdout"
        }
      ]
    },
    {
      "cell_type": "code",
      "metadata": {
        "id": "GhqUddvSEBoy"
      },
      "source": [
        "from sklearn.metrics import accuracy_score"
      ],
      "execution_count": null,
      "outputs": []
    },
    {
      "cell_type": "code",
      "metadata": {
        "colab": {
          "base_uri": "https://localhost:8080/"
        },
        "id": "T-yyc20jFmGe",
        "outputId": "f3f62a99-1028-4463-8381-1fd56a8a2f73"
      },
      "source": [
        "accuracy_score(original, predict)"
      ],
      "execution_count": null,
      "outputs": [
        {
          "output_type": "execute_result",
          "data": {
            "text/plain": [
              "1.0"
            ]
          },
          "metadata": {},
          "execution_count": 33
        }
      ]
    },
    {
      "cell_type": "code",
      "metadata": {
        "colab": {
          "base_uri": "https://localhost:8080/"
        },
        "id": "_tDJrPr7FvLQ",
        "outputId": "8146e2b2-e046-44a2-c78f-84ff614cf9a9"
      },
      "source": [
        "count=0\n",
        "for i in range(len(predict)):\n",
        "  if predict[i]==original[i]:\n",
        "    count=count+1\n",
        "\n",
        "accuracy=count/len(predict)\n",
        "print(accuracy)"
      ],
      "execution_count": null,
      "outputs": [
        {
          "output_type": "stream",
          "text": [
            "1.0\n"
          ],
          "name": "stdout"
        }
      ]
    },
    {
      "cell_type": "code",
      "metadata": {
        "id": "gb5jU6O_JLPm"
      },
      "source": [
        "import random\n",
        "import json\n",
        "from utils.io import write_json\n",
        "\n",
        "def write_json(filename, result):\n",
        "    with open(filename, 'w') as outfile:\n",
        "        json.dump(result, outfile)\n",
        "\n",
        "def read_json(filename):\n",
        "    with open(filename, 'r') as outfile:\n",
        "        data =  json.load(outfile)\n",
        "    return data\n",
        "\n",
        "def generate_sample_file(filename):\n",
        "    res = {}\n",
        "    for i in range(1,100):\n",
        "        test_set = str(i) + '.png'\n",
        "        res[test_set] = 3\n",
        "\n",
        "    write_json(filename, res)\n",
        "\n",
        "if __name__ == '__main__':\n",
        "    generate_sample_file('/content/drive/MyDrive/GPU_Hackathon/sample_result1.json')\n"
      ],
      "execution_count": null,
      "outputs": []
    }
  ]
}