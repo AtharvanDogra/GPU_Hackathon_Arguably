{
  "nbformat": 4,
  "nbformat_minor": 0,
  "metadata": {
    "colab": {
      "name": "CNN.ipynb",
      "provenance": [],
      "collapsed_sections": []
    },
    "kernelspec": {
      "name": "python3",
      "display_name": "Python 3"
    },
    "language_info": {
      "name": "python"
    }
  },
  "cells": [
    {
      "cell_type": "code",
      "metadata": {
        "id": "wnl4zIwx8srS"
      },
      "source": [
        "from tensorflow.compat.v1 import ConfigProto\n",
        "from tensorflow.compat.v1 import InteractiveSession\n",
        "\n",
        "config = ConfigProto()\n",
        "config.gpu_options.per_process_gpu_memory_fraction = 0.5\n",
        "config.gpu_options.allow_growth = True\n",
        "session = InteractiveSession(config=config)"
      ],
      "execution_count": null,
      "outputs": []
    },
    {
      "cell_type": "code",
      "metadata": {
        "id": "iGA9Wd2d8u0s"
      },
      "source": [
        "# Convolutional Neural Network\n",
        "\n",
        "# Importing the libraries\n",
        "import tensorflow as tf\n",
        "from tensorflow.keras.preprocessing.image import ImageDataGenerator"
      ],
      "execution_count": null,
      "outputs": []
    },
    {
      "cell_type": "code",
      "metadata": {
        "colab": {
          "base_uri": "https://localhost:8080/",
          "height": 35
        },
        "id": "b3vkJBea84t7",
        "outputId": "392f5835-b90e-4182-fe23-997ecdd9d191"
      },
      "source": [
        "tf.__version__"
      ],
      "execution_count": null,
      "outputs": [
        {
          "output_type": "execute_result",
          "data": {
            "application/vnd.google.colaboratory.intrinsic+json": {
              "type": "string"
            },
            "text/plain": [
              "'2.6.0'"
            ]
          },
          "metadata": {},
          "execution_count": 3
        }
      ]
    },
    {
      "cell_type": "code",
      "metadata": {
        "colab": {
          "base_uri": "https://localhost:8080/"
        },
        "id": "sLblcmOP87_B",
        "outputId": "cdc6943c-2240-47ea-d4a2-d120466c6a03"
      },
      "source": [
        "# Part 1 - Data Preprocessing\n",
        "\n",
        "# Preprocessing the Training set\n",
        "train_datagen = ImageDataGenerator(rescale = 1./255)\n",
        "\n",
        "training_set = train_datagen.flow_from_directory('/content/drive/MyDrive/training',\n",
        "                                                 target_size = (64, 64),\n",
        "                                                 batch_size = 32,\n",
        "                                                 class_mode = 'binary')\n",
        "test_datagen = ImageDataGenerator(rescale = 1./255)\n",
        "test_set = test_datagen.flow_from_directory('/content/drive/MyDrive/test',\n",
        "                                            target_size = (64, 64),\n",
        "                                           batch_size = 32,\n",
        "                                             class_mode = 'binary')"
      ],
      "execution_count": null,
      "outputs": [
        {
          "output_type": "stream",
          "text": [
            "Found 5882 images belonging to 2 classes.\n",
            "Found 98 images belonging to 3 classes.\n"
          ],
          "name": "stdout"
        }
      ]
    },
    {
      "cell_type": "code",
      "metadata": {
        "id": "p5HjEdqj_0fr"
      },
      "source": [
        "from tensorflow.keras.layers import Conv2D"
      ],
      "execution_count": null,
      "outputs": []
    },
    {
      "cell_type": "code",
      "metadata": {
        "id": "5bCvO45A_1Sw"
      },
      "source": [
        "# Part 2 - Building the CNN\n",
        "\n",
        "# Initialising the CNN\n",
        "cnn = tf.keras.models.Sequential()\n",
        "\n",
        "# Step 1 - Convolution\n",
        "cnn.add(tf.keras.layers.Conv2D(filters=32,padding=\"same\",kernel_size=3, activation='relu', input_shape=[64, 64, 3]))\n",
        "\n",
        "# Step 2 - Pooling\n",
        "cnn.add(tf.keras.layers.MaxPool2D(pool_size=2, strides=2))\n",
        "\n",
        "# Adding a second convolutional layer\n",
        "cnn.add(tf.keras.layers.Conv2D(filters=32,padding='same',kernel_size=3, activation='relu'))\n",
        "cnn.add(tf.keras.layers.MaxPool2D(pool_size=2, strides=2))\n",
        "\n",
        "# Step 3 - Flattening\n",
        "cnn.add(tf.keras.layers.Flatten())\n",
        "\n",
        "# Step 4 - Full Connection\n",
        "cnn.add(tf.keras.layers.Dense(units=128, activation='relu'))\n",
        "\n",
        "# Step 5 - Output Layer\n",
        "cnn.add(tf.keras.layers.Dense(units=1, activation='sigmoid'))"
      ],
      "execution_count": null,
      "outputs": []
    },
    {
      "cell_type": "code",
      "metadata": {
        "colab": {
          "base_uri": "https://localhost:8080/"
        },
        "id": "CdJke6SN_3lK",
        "outputId": "996e4e6b-7703-4525-9158-f526b05a7ec1"
      },
      "source": [
        "cnn.summary()"
      ],
      "execution_count": null,
      "outputs": [
        {
          "output_type": "stream",
          "text": [
            "Model: \"sequential_1\"\n",
            "_________________________________________________________________\n",
            "Layer (type)                 Output Shape              Param #   \n",
            "=================================================================\n",
            "conv2d_2 (Conv2D)            (None, 64, 64, 32)        896       \n",
            "_________________________________________________________________\n",
            "max_pooling2d_2 (MaxPooling2 (None, 32, 32, 32)        0         \n",
            "_________________________________________________________________\n",
            "conv2d_3 (Conv2D)            (None, 32, 32, 32)        9248      \n",
            "_________________________________________________________________\n",
            "max_pooling2d_3 (MaxPooling2 (None, 16, 16, 32)        0         \n",
            "_________________________________________________________________\n",
            "flatten_1 (Flatten)          (None, 8192)              0         \n",
            "_________________________________________________________________\n",
            "dense_2 (Dense)              (None, 128)               1048704   \n",
            "_________________________________________________________________\n",
            "dense_3 (Dense)              (None, 1)                 129       \n",
            "=================================================================\n",
            "Total params: 1,058,977\n",
            "Trainable params: 1,058,977\n",
            "Non-trainable params: 0\n",
            "_________________________________________________________________\n"
          ],
          "name": "stdout"
        }
      ]
    },
    {
      "cell_type": "code",
      "metadata": {
        "colab": {
          "base_uri": "https://localhost:8080/"
        },
        "id": "-WVRaq-_BFSh",
        "outputId": "7664979b-b62e-438b-d311-9c91ed1e9f04"
      },
      "source": [
        "# Part 3 - Training the CNN\n",
        "\n",
        "# Compiling the CNN\n",
        "cnn.compile(optimizer = 'adam', loss = 'binary_crossentropy', metrics = ['accuracy'])\n",
        "\n",
        "# Training the CNN on the Training set and evaluating it on the Test set\n",
        "cnn.fit(x = training_set, epochs = 10)"
      ],
      "execution_count": null,
      "outputs": [
        {
          "output_type": "stream",
          "text": [
            "Epoch 1/10\n",
            "184/184 [==============================] - 2646s 14s/step - loss: 0.3999 - accuracy: 0.8288\n",
            "Epoch 2/10\n",
            "184/184 [==============================] - 25s 136ms/step - loss: 0.2028 - accuracy: 0.9291\n",
            "Epoch 3/10\n",
            "184/184 [==============================] - 25s 136ms/step - loss: 0.1321 - accuracy: 0.9507\n",
            "Epoch 4/10\n",
            "184/184 [==============================] - 25s 136ms/step - loss: 0.0987 - accuracy: 0.9668\n",
            "Epoch 5/10\n",
            "184/184 [==============================] - 25s 134ms/step - loss: 0.0712 - accuracy: 0.9762\n",
            "Epoch 6/10\n",
            "184/184 [==============================] - 25s 135ms/step - loss: 0.0529 - accuracy: 0.9804\n",
            "Epoch 7/10\n",
            "184/184 [==============================] - 25s 135ms/step - loss: 0.0534 - accuracy: 0.9837\n",
            "Epoch 8/10\n",
            "184/184 [==============================] - 25s 136ms/step - loss: 0.0253 - accuracy: 0.9923\n",
            "Epoch 9/10\n",
            "184/184 [==============================] - 25s 136ms/step - loss: 0.0221 - accuracy: 0.9934\n",
            "Epoch 10/10\n",
            "184/184 [==============================] - 25s 136ms/step - loss: 0.0349 - accuracy: 0.9893\n"
          ],
          "name": "stdout"
        },
        {
          "output_type": "execute_result",
          "data": {
            "text/plain": [
              "<keras.callbacks.History at 0x7f268879b990>"
            ]
          },
          "metadata": {},
          "execution_count": 32
        }
      ]
    },
    {
      "cell_type": "code",
      "metadata": {
        "id": "nE28w8Y8B1yM"
      },
      "source": [
        "from tensorflow.keras.models import load_model\n",
        "cnn.save('model_hindi_letter_detection.h5')"
      ],
      "execution_count": null,
      "outputs": []
    },
    {
      "cell_type": "markdown",
      "metadata": {
        "id": "RA9DQWtUgqaZ"
      },
      "source": [
        " "
      ]
    },
    {
      "cell_type": "code",
      "metadata": {
        "id": "XE-Sb6DTB51C"
      },
      "source": [
        "from tensorflow.keras.models import load_model\n",
        " \n",
        "# load model \n",
        "model = load_model('model_hindi_letter_detection.h5')"
      ],
      "execution_count": null,
      "outputs": []
    },
    {
      "cell_type": "code",
      "metadata": {
        "id": "-Vr16U0qCLdX"
      },
      "source": [
        "original=[]\n",
        "import os"
      ],
      "execution_count": null,
      "outputs": []
    },
    {
      "cell_type": "code",
      "metadata": {
        "id": "VBBMfoHPGjX5"
      },
      "source": [
        "y_pred=[]"
      ],
      "execution_count": null,
      "outputs": []
    },
    {
      "cell_type": "code",
      "metadata": {
        "id": "0bfrucILHlql"
      },
      "source": [
        "for image_name in os.listdir(\"/content/drive/MyDrive/test/background\"):\n",
        "\n",
        "  original.append(int(image_name.split(\"_\")[1].split(\".\")[0]))                  #taking out 0s and 1s from combined test set\n",
        "\n",
        "  test_image = image.load_img('/content/drive/MyDrive/test/background/'+ str(image_name), target_size = (64,64))\n",
        "  test_image = image.img_to_array(test_image)\n",
        "  test_image=test_image/255\n",
        "  test_image = np.expand_dims(test_image, axis = 0)\n",
        "  result = model.predict(test_image)\n",
        "\n",
        "  if result < 0.5:\n",
        "    y_pred.append(0)\n",
        "  else:\n",
        "    y_pred.append(1)"
      ],
      "execution_count": null,
      "outputs": []
    },
    {
      "cell_type": "code",
      "metadata": {
        "id": "vYD1eITDIGrV"
      },
      "source": [
        "for image_name in os.listdir(\"/content/drive/MyDrive/test/hi\"):\n",
        "\n",
        "  original.append(int(image_name.split(\"_\")[1].split(\".\")[0]))                  #taking out 0s and 1s from combined test set\n",
        "\n",
        "  test_image = image.load_img('/content/drive/MyDrive/test/hi/'+ str(image_name), target_size = (64,64))\n",
        "  test_image = image.img_to_array(test_image)\n",
        "  test_image=test_image/255\n",
        "  test_image = np.expand_dims(test_image, axis = 0)\n",
        "  result = model.predict(test_image)\n",
        "\n",
        "  if result < 0.5:\n",
        "    y_pred.append(0)\n",
        "  else:\n",
        "    y_pred.append(1)"
      ],
      "execution_count": null,
      "outputs": []
    },
    {
      "cell_type": "code",
      "metadata": {
        "colab": {
          "base_uri": "https://localhost:8080/"
        },
        "id": "tP2PFCjrIJm6",
        "outputId": "6ce21cbc-bb05-4fa6-e899-cf0a6198fb79"
      },
      "source": [
        "len(y_pred)"
      ],
      "execution_count": null,
      "outputs": [
        {
          "output_type": "execute_result",
          "data": {
            "text/plain": [
              "98"
            ]
          },
          "metadata": {},
          "execution_count": 11
        }
      ]
    },
    {
      "cell_type": "code",
      "metadata": {
        "id": "9f7auOAvIhZ3"
      },
      "source": [
        "count=0\n",
        "for i in range(len(y_pred)):\n",
        "  if y_pred[i]==original[i]:\n",
        "    count=count+1\n",
        "\n",
        "accuracy=count/len(y_pred)\n"
      ],
      "execution_count": null,
      "outputs": []
    },
    {
      "cell_type": "code",
      "metadata": {
        "colab": {
          "base_uri": "https://localhost:8080/"
        },
        "id": "tdV5_Kx_IyK5",
        "outputId": "4e645272-4b1b-45fa-b6d7-0cc04cab261e"
      },
      "source": [
        "print(accuracy)"
      ],
      "execution_count": null,
      "outputs": [
        {
          "output_type": "stream",
          "text": [
            "0.9693877551020408\n"
          ],
          "name": "stdout"
        }
      ]
    },
    {
      "cell_type": "code",
      "metadata": {
        "id": "WXaW_e6rIz1F"
      },
      "source": [
        "\n"
      ],
      "execution_count": null,
      "outputs": []
    },
    {
      "cell_type": "code",
      "metadata": {
        "id": "8gZ2MpwazC07"
      },
      "source": [
        ""
      ],
      "execution_count": null,
      "outputs": []
    }
  ]
}