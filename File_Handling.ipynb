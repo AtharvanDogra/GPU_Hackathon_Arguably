{
  "nbformat": 4,
  "nbformat_minor": 0,
  "metadata": {
    "colab": {
      "name": "File Handling.ipynb",
      "provenance": []
    },
    "kernelspec": {
      "name": "python3",
      "display_name": "Python 3"
    },
    "language_info": {
      "name": "python"
    }
  },
  "cells": [
    {
      "cell_type": "code",
      "metadata": {
        "colab": {
          "base_uri": "https://localhost:8080/"
        },
        "id": "W8SseIQy4n1e",
        "outputId": "2ca6b346-6f42-4a27-ce8f-8221f4687a6a"
      },
      "source": [
        "from google.colab import drive\n",
        "drive.mount('/content/drive')"
      ],
      "execution_count": null,
      "outputs": [
        {
          "output_type": "stream",
          "text": [
            "Drive already mounted at /content/drive; to attempt to forcibly remount, call drive.mount(\"/content/drive\", force_remount=True).\n"
          ],
          "name": "stdout"
        }
      ]
    },
    {
      "cell_type": "code",
      "metadata": {
        "id": "EL0keJX46eKF"
      },
      "source": [
        "import os"
      ],
      "execution_count": null,
      "outputs": []
    },
    {
      "cell_type": "code",
      "metadata": {
        "colab": {
          "base_uri": "https://localhost:8080/",
          "height": 35
        },
        "id": "wuvYgJhl6kB9",
        "outputId": "ec557071-538e-4a12-d3aa-b790f133507f"
      },
      "source": [
        "os.getcwd()"
      ],
      "execution_count": null,
      "outputs": [
        {
          "output_type": "execute_result",
          "data": {
            "application/vnd.google.colaboratory.intrinsic+json": {
              "type": "string"
            },
            "text/plain": [
              "'/content'"
            ]
          },
          "metadata": {},
          "execution_count": 4
        }
      ]
    },
    {
      "cell_type": "code",
      "metadata": {
        "colab": {
          "base_uri": "https://localhost:8080/"
        },
        "id": "Nfjp_y7F6nOA",
        "outputId": "09872654-1ffa-498b-d8e0-a9781e6b7f3c"
      },
      "source": [
        "filepath=\"/content/drive/MyDrive/test/hi/\"\n",
        "os.listdir(filepath)"
      ],
      "execution_count": null,
      "outputs": [
        {
          "output_type": "execute_result",
          "data": {
            "text/plain": [
              "['1.jpg',\n",
              " '13.jpg',\n",
              " '15.jpg',\n",
              " '19.jpg',\n",
              " '22.jpg',\n",
              " '25.jpg',\n",
              " '26.jpg',\n",
              " '29.jpg',\n",
              " '27.jpg',\n",
              " '3.jpg',\n",
              " '30.jpg',\n",
              " '42.jpg',\n",
              " '46.jpg',\n",
              " '48.jpg',\n",
              " '53.jpg',\n",
              " '54.jpg',\n",
              " '61.jpg',\n",
              " '67.jpg',\n",
              " '69.jpg',\n",
              " '70.jpg',\n",
              " '73.jpg',\n",
              " '72.jpg',\n",
              " '84.jpg',\n",
              " '90.jpg',\n",
              " '93.jpg',\n",
              " '94.jpg',\n",
              " '28.jpg',\n",
              " '63.jpg',\n",
              " '92.jpg',\n",
              " '11.jpg',\n",
              " '50.jpg',\n",
              " '21.jpg',\n",
              " '20.jpg',\n",
              " '83.jpg',\n",
              " '51.jpg',\n",
              " '52.jpg',\n",
              " '40.jpg',\n",
              " '23.jpg',\n",
              " '24.jpg',\n",
              " '7.jpg',\n",
              " '55.jpg',\n",
              " '91.jpg',\n",
              " '9.jpg',\n",
              " '62.jpg',\n",
              " '82.jpg',\n",
              " '5.jpg',\n",
              " '17.jpg',\n",
              " '44.jpg',\n",
              " '71.jpg',\n",
              " '68.jpg',\n",
              " '81.jpg']"
            ]
          },
          "metadata": {},
          "execution_count": 17
        }
      ]
    },
    {
      "cell_type": "code",
      "metadata": {
        "id": "wULBCjQN9pml"
      },
      "source": [
        "#rename all the hi files\n",
        "for count,f_name in enumerate(os.listdir(filepath)):\n",
        "  dest=str(count)+\"_\"+\"1\"+\".jpg\"\n",
        "  src=filepath+f_name\n",
        "  dest=filepath+dest\n",
        "  os.replace(src,dest)\n",
        "  \n",
        "\n"
      ],
      "execution_count": null,
      "outputs": []
    },
    {
      "cell_type": "code",
      "metadata": {
        "id": "xZY_M_ld-seu"
      },
      "source": [
        "#rename all the background files\n",
        "filepath_background=\"/content/drive/MyDrive/test/background/\"\n",
        "for count,f_name in enumerate(os.listdir(filepath_background)):\n",
        "  dest=str(count)+\"_\"+\"0\"+\".jpg\"\n",
        "  src=filepath_background+f_name\n",
        "  dest=filepath_background+dest\n",
        "  os.replace(src,dest)\n"
      ],
      "execution_count": null,
      "outputs": []
    },
    {
      "cell_type": "code",
      "metadata": {
        "id": "_bQ2JiH8BzUo"
      },
      "source": [
        "os.listdir(filepath)"
      ],
      "execution_count": null,
      "outputs": []
    },
    {
      "cell_type": "code",
      "metadata": {
        "colab": {
          "base_uri": "https://localhost:8080/"
        },
        "id": "XYQ_JVqvB2_P",
        "outputId": "968f373d-45a7-4106-de8d-91fd968e0b4f"
      },
      "source": [
        "#s.listdir(filepath_background)"
      ],
      "execution_count": null,
      "outputs": [
        {
          "output_type": "execute_result",
          "data": {
            "text/plain": [
              "['0_0.jpg',\n",
              " '1_0.jpg',\n",
              " '2_0.jpg',\n",
              " '3_0.jpg',\n",
              " '4_0.jpg',\n",
              " '5_0.jpg',\n",
              " '6_0.jpg',\n",
              " '7_0.jpg',\n",
              " '8_0.jpg',\n",
              " '9_0.jpg',\n",
              " '10_0.jpg',\n",
              " '11_0.jpg',\n",
              " '12_0.jpg',\n",
              " '13_0.jpg',\n",
              " '14_0.jpg',\n",
              " '15_0.jpg',\n",
              " '16_0.jpg',\n",
              " '17_0.jpg',\n",
              " '18_0.jpg',\n",
              " '19_0.jpg',\n",
              " '20_0.jpg',\n",
              " '21_0.jpg',\n",
              " '22_0.jpg',\n",
              " '23_0.jpg',\n",
              " '24_0.jpg',\n",
              " '25_0.jpg',\n",
              " '26_0.jpg',\n",
              " '27_0.jpg',\n",
              " '28_0.jpg',\n",
              " '29_0.jpg',\n",
              " '30_0.jpg',\n",
              " '31_0.jpg',\n",
              " '32_0.jpg',\n",
              " '33_0.jpg',\n",
              " '34_0.jpg',\n",
              " '35_0.jpg',\n",
              " '36_0.jpg',\n",
              " '37_0.jpg',\n",
              " '38_0.jpg',\n",
              " '39_0.jpg',\n",
              " '40_0.jpg',\n",
              " '41_0.jpg',\n",
              " '42_0.jpg',\n",
              " '43_0.jpg',\n",
              " '44_0.jpg',\n",
              " '45_0.jpg',\n",
              " '46_0.jpg']"
            ]
          },
          "metadata": {},
          "execution_count": 22
        }
      ]
    },
    {
      "cell_type": "code",
      "metadata": {
        "id": "4pSo77paB668"
      },
      "source": [
        ""
      ],
      "execution_count": null,
      "outputs": []
    }
  ]
}